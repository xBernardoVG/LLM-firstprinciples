{
 "cells": [
  {
   "cell_type": "code",
   "execution_count": 2,
   "metadata": {},
   "outputs": [],
   "source": [
    "import torch\n",
    "import torch.nn.functional as F\n",
    "import matplotlib.pyplot as plt\n",
    "%matplotlib inline"
   ]
  },
  {
   "cell_type": "code",
   "execution_count": 2,
   "metadata": {},
   "outputs": [],
   "source": [
    "words = open('names.txt', 'r').read().splitlines()"
   ]
  },
  {
   "cell_type": "code",
   "execution_count": 3,
   "metadata": {},
   "outputs": [
    {
     "name": "stdout",
     "output_type": "stream",
     "text": [
      "{1: 'a', 2: 'b', 3: 'c', 4: 'd', 5: 'e', 6: 'f', 7: 'g', 8: 'h', 9: 'i', 10: 'j', 11: 'k', 12: 'l', 13: 'm', 14: 'n', 15: 'o', 16: 'p', 17: 'q', 18: 'r', 19: 's', 20: 't', 21: 'u', 22: 'v', 23: 'w', 24: 'x', 25: 'y', 26: 'z', 0: '.'}\n",
      "27\n"
     ]
    }
   ],
   "source": [
    "#build vocabulary of characters and mappings to/from intergers\n",
    "chars = sorted(list(set(''.join(words))))\n",
    "stoi = {s:i+1 for i,s in enumerate(chars)}\n",
    "stoi['.'] = 0\n",
    "itos = {i:s for s,i in stoi.items()}\n",
    "vocab_size = len(itos)\n",
    "print(itos)\n",
    "print(vocab_size)"
   ]
  },
  {
   "cell_type": "code",
   "execution_count": 4,
   "metadata": {},
   "outputs": [
    {
     "name": "stdout",
     "output_type": "stream",
     "text": [
      "torch.Size([182625, 3]) torch.Size([182625])\n",
      "torch.Size([22655, 3]) torch.Size([22655])\n",
      "torch.Size([22866, 3]) torch.Size([22866])\n"
     ]
    }
   ],
   "source": [
    "block_size = 3\n",
    "def build_dataset(words):\n",
    "\t\n",
    "\tX, Y = [], []\n",
    "\t\n",
    "\tfor w in words:\n",
    "\t\tcontext = [0] * block_size\n",
    "\t\tfor ch in w + '.':\n",
    "\t\t\tix = stoi[ch]\n",
    "\t\t\tX.append(context)\n",
    "\t\t\tY.append(ix)\n",
    "\t\t\t#print(''.join(itos[i] for i in context), '--->',itos[ix])\n",
    "\t\t\tcontext =context[1:] + [ix]\n",
    "\n",
    "\tX = torch.tensor(X)\n",
    "\tY = torch.tensor(Y)\n",
    "\tprint(X.shape, Y.shape)\n",
    "\treturn X,Y\n",
    "\n",
    "import random\n",
    "random.seed(42)\n",
    "random.shuffle(words)\n",
    "n1 = int(0.8*len(words))\n",
    "n2 = int(0.9*len(words))\n",
    "\n",
    "Xtr, Ytr = build_dataset(words[:n1])\n",
    "Xdev, Ydev = build_dataset(words[n1:n2])\n",
    "Xte, Yte = build_dataset(words[n2:])"
   ]
  },
  {
   "cell_type": "code",
   "execution_count": 5,
   "metadata": {},
   "outputs": [],
   "source": [
    "# utility function we will use later to compare our caculated gradients with pytorch autograd\n",
    "def cmp(s, dt, t):\n",
    "    ex = torch.all(dt ==t.grad).item()\n",
    "    app= torch.allclose(dt, t.grad)\n",
    "    maxdiff = (dt - t.grad).abs().max().item()\n",
    "    print(f'{s:15} | exact: {str(ex):5s} | approximate: {str(app):5s}| maxdiff: {maxdiff}')"
   ]
  },
  {
   "cell_type": "code",
   "execution_count": 12,
   "metadata": {},
   "outputs": [
    {
     "name": "stdout",
     "output_type": "stream",
     "text": [
      "4137\n"
     ]
    }
   ],
   "source": [
    "#MLP\n",
    "n_emb = 10\n",
    "n_hidden = 64\n",
    "\n",
    "g = torch.Generator().manual_seed(2147483647)\n",
    "C = torch.randn((vocab_size,n_emb),\t\t\t\tgenerator=g)\n",
    "#Layer 1\n",
    "W1 = torch.randn((n_emb * block_size,n_hidden),\tgenerator=g) * (5/3) / ((n_emb * block_size)**(0.5)) # 3letters(block size)x10 inputs\n",
    "b1 = torch.randn(n_hidden,\t\t\t\t\t\tgenerator=g) * 0.1\n",
    "#Layer 2\n",
    "W2 = torch.randn((n_hidden,vocab_size),\t\t\tgenerator=g) * 0.1 # initial weights very close to 0 so it gives same probability to all letters\n",
    "b2 = torch.randn(vocab_size,\t\t\t\t\tgenerator=g) * 0.1 # we want to start without a bias in the initialization same reason as above\n",
    "#BatchNorm parameters\n",
    "bngain = torch.ones((1, n_hidden)) * 0.1 + 1.0\n",
    "bnbias = torch.zeros((1, n_hidden)) * 0.1\n",
    "bnmean_running= torch.zeros((1, n_hidden))\n",
    "bnstd_running = torch.ones((1, n_hidden))\n",
    "\n",
    "parameters = [C, W1, b1, W2, b2, bngain, bnbias]\n",
    "print(sum(p.nelement() for p in parameters)) # number of parameters in total\n",
    "for p in parameters:\n",
    "    p.requires_grad = True"
   ]
  },
  {
   "cell_type": "code",
   "execution_count": 13,
   "metadata": {},
   "outputs": [],
   "source": [
    "batch_size = 32\n",
    "n = batch_size\n",
    "ix= torch.randint(0, Xtr.shape[0],(batch_size,), generator=g)\n",
    "Xb, Yb = Xtr[ix], Ytr[ix]"
   ]
  },
  {
   "cell_type": "code",
   "execution_count": 14,
   "metadata": {},
   "outputs": [
    {
     "data": {
      "text/plain": [
       "tensor(3.3482, grad_fn=<NegBackward0>)"
      ]
     },
     "execution_count": 14,
     "metadata": {},
     "output_type": "execute_result"
    }
   ],
   "source": [
    "# forward pass, \"chunkated\" into smaller steps that are possible to backward one at the time\n",
    "\n",
    "emb = C[Xb] #embed the characters into vectors\n",
    "embcat = emb.view(emb.shape[0], -1) # concatenate the vectors\n",
    "# linear layer 1\n",
    "hprebn = embcat @ W1 + b1 # hidden layer pre-activation\n",
    "# BatchNorm layer\n",
    "bnmeani = 1/n*hprebn.sum(0,keepdim=True)\n",
    "bndiff = hprebn - bnmeani\n",
    "bndiff2 = bndiff**2\n",
    "bnvar = 1/(n-1)*(bndiff2).sum(0, keepdim=True)\n",
    "bnvar_inv = (bnvar + 1e-5)**-0.5\n",
    "bnraw = bndiff * bnvar_inv\n",
    "hpreact = bngain * bnraw + bnbias\n",
    "# Non-linearity\n",
    "h = torch.tanh(hpreact) # hidden layer\n",
    "# Linear layer 2\n",
    "logits = h @ W2 + b2 # output layer\n",
    "# cross entropy loss (same as F.crossentropy(logits, Yb))\n",
    "logit_maxes = logits.max(1, keepdim=True).values\n",
    "norm_logits = logits - logit_maxes #subtract max for numerical stability\n",
    "counts = norm_logits.exp()\n",
    "counts_sum = counts.sum(1, keepdims=True)\n",
    "counts_sum_inv = counts_sum**-1 \n",
    "probs = counts * counts_sum_inv\n",
    "logprobs = probs.log()\n",
    "loss = -logprobs[range(n), Yb].mean()\n",
    "\n",
    "# PyTorch backward pass\n",
    "for p in parameters:\n",
    "    p.grad = None\n",
    "for t in [logprobs, probs, counts, counts_sum, counts_sum_inv, # afaik there is no cleaner way\n",
    "          norm_logits, logit_maxes, logits, h, hpreact, bnraw,\n",
    "         bnvar_inv, bnvar, bndiff2, bndiff, hprebn, bnmeani,\n",
    "         embcat, emb]:\n",
    "\tt.retain_grad()\n",
    "loss.backward()\n",
    "loss"
   ]
  },
  {
   "cell_type": "code",
   "execution_count": 9,
   "metadata": {},
   "outputs": [
    {
     "data": {
      "text/plain": [
       "(torch.Size([1, 64]), torch.Size([32, 64]), torch.Size([32, 64]))"
      ]
     },
     "execution_count": 9,
     "metadata": {},
     "output_type": "execute_result"
    }
   ],
   "source": [
    "bnmeani.shape, hprebn.shape, bndiff.shape"
   ]
  },
  {
   "cell_type": "code",
   "execution_count": null,
   "metadata": {},
   "outputs": [
    {
     "data": {
      "text/plain": [
       "(torch.Size([32, 64]),\n",
       " torch.Size([32, 30]),\n",
       " torch.Size([30, 64]),\n",
       " torch.Size([64]))"
      ]
     },
     "execution_count": 32,
     "metadata": {},
     "output_type": "execute_result"
    }
   ],
   "source": [
    "hprebn.shape, embcat.shape, W1.shape, b1.shape\n",
    "dembcat= dhprebn @ W1.T\n",
    "dW1 = embcat.T @ dhprebn\n",
    "db1 = dhprebn.sum(0)"
   ]
  },
  {
   "cell_type": "code",
   "execution_count": 18,
   "metadata": {},
   "outputs": [
    {
     "data": {
      "text/plain": [
       "torch.Size([32])"
      ]
     },
     "execution_count": 18,
     "metadata": {},
     "output_type": "execute_result"
    }
   ],
   "source": [
    "# Exercise 1: backprop through the whole thing manually, \n",
    "# backpropagating through exactly all of the variables \n",
    "# as they are defined in the forward pass above, one by one\n",
    "\n",
    "#!!!!!!!!!!!! dh.shape == h.shape !!!!!!!!!!!! That's the trick to find the correct derivates, by playin with the dimensions\n",
    "logprobs[range(n), Yb].shape\n",
    "\n",
    "counts = norm_logits.exp()\n",
    "counts_sum = counts.sum(1, keepdims=True)\n",
    "counts_sum_inv = counts_sum**-1 \n",
    "probs = counts * counts_sum_inv"
   ]
  },
  {
   "cell_type": "code",
   "execution_count": 19,
   "metadata": {},
   "outputs": [
    {
     "data": {
      "text/plain": [
       "(torch.Size([32, 27]), torch.Size([32, 1]))"
      ]
     },
     "execution_count": 19,
     "metadata": {},
     "output_type": "execute_result"
    }
   ],
   "source": [
    "counts.shape, counts_sum_inv.shape"
   ]
  },
  {
   "cell_type": "code",
   "execution_count": 22,
   "metadata": {},
   "outputs": [
    {
     "name": "stdout",
     "output_type": "stream",
     "text": [
      "logprobs        | exact: True  | approximate: True | maxdiff: 0.0\n",
      "probs           | exact: True  | approximate: True | maxdiff: 0.0\n"
     ]
    },
    {
     "data": {
      "text/plain": [
       "(torch.Size([32, 27]), torch.Size([32, 27]))"
      ]
     },
     "execution_count": 22,
     "metadata": {},
     "output_type": "execute_result"
    }
   ],
   "source": [
    "dlogprobs = torch.zeros_like(logprobs)\n",
    "dlogprobs[range(n), Yb] = -1.0/n \n",
    "cmp('logprobs', dlogprobs, logprobs)\n",
    "\n",
    "# dloss/dprobs = dloss/dlogpros * dlogpros/dprobs\n",
    "# logprobs = probs.log() -> d(log) = 1/x\n",
    "dprobs =  1 / probs * dlogprobs\n",
    "cmp('probs', dprobs, probs)\n",
    "(counts * dprobs).sum(1, keepdim=True)\n",
    "counts.shape, dprobs.shape"
   ]
  },
  {
   "cell_type": "code",
   "execution_count": 23,
   "metadata": {},
   "outputs": [
    {
     "data": {
      "text/plain": [
       "(torch.Size([32, 27]), torch.Size([32, 1]))"
      ]
     },
     "execution_count": 23,
     "metadata": {},
     "output_type": "execute_result"
    }
   ],
   "source": [
    "logits.shape, logit_maxes.shape"
   ]
  },
  {
   "cell_type": "code",
   "execution_count": 27,
   "metadata": {},
   "outputs": [
    {
     "data": {
      "text/plain": [
       "torch.Size([32, 27])"
      ]
     },
     "execution_count": 27,
     "metadata": {},
     "output_type": "execute_result"
    }
   ],
   "source": [
    "F.one_hot(logits.max(1).indices, num_classes=logits.shape[1]).shape"
   ]
  },
  {
   "cell_type": "code",
   "execution_count": 28,
   "metadata": {},
   "outputs": [
    {
     "name": "stdout",
     "output_type": "stream",
     "text": [
      "logprobs        | exact: True  | approximate: True | maxdiff: 0.0\n",
      "probs           | exact: True  | approximate: True | maxdiff: 0.0\n",
      "counts_sum_inv  | exact: True  | approximate: True | maxdiff: 0.0\n",
      "counts_sum      | exact: True  | approximate: True | maxdiff: 0.0\n",
      "counts          | exact: True  | approximate: True | maxdiff: 0.0\n",
      "norm_logits     | exact: True  | approximate: True | maxdiff: 0.0\n",
      "logit_maxes     | exact: True  | approximate: True | maxdiff: 0.0\n",
      "logits          | exact: True  | approximate: True | maxdiff: 0.0\n",
      "h               | exact: True  | approximate: True | maxdiff: 0.0\n",
      "W2              | exact: True  | approximate: True | maxdiff: 0.0\n",
      "b2              | exact: True  | approximate: True | maxdiff: 0.0\n",
      "hpreact         | exact: True  | approximate: True | maxdiff: 0.0\n",
      "bngain          | exact: True  | approximate: True | maxdiff: 0.0\n",
      "bnbias          | exact: True  | approximate: True | maxdiff: 0.0\n",
      "bnraw           | exact: True  | approximate: True | maxdiff: 0.0\n",
      "bnvar_inv       | exact: True  | approximate: True | maxdiff: 0.0\n",
      "bnvar           | exact: True  | approximate: True | maxdiff: 0.0\n",
      "bndiff2         | exact: True  | approximate: True | maxdiff: 0.0\n",
      "bndiff          | exact: True  | approximate: True | maxdiff: 0.0\n",
      "bnmeani         | exact: True  | approximate: True | maxdiff: 0.0\n",
      "hprebn          | exact: True  | approximate: True | maxdiff: 0.0\n",
      "embcat          | exact: True  | approximate: True | maxdiff: 0.0\n",
      "W1              | exact: True  | approximate: True | maxdiff: 0.0\n",
      "b1              | exact: True  | approximate: True | maxdiff: 0.0\n",
      "emb             | exact: True  | approximate: True | maxdiff: 0.0\n",
      "C               | exact: True  | approximate: True | maxdiff: 0.0\n"
     ]
    }
   ],
   "source": [
    "# Exercise 1: backprop through the whole thing manually, \n",
    "# backpropagating through exactly all of the variables \n",
    "# as they are defined in the forward pass above, one by one\n",
    "\n",
    "# -----------------\n",
    "# YOUR CODE HERE :)\n",
    "# -----------------\n",
    "# loss = -logprobs[range(n), Yb].mean()\n",
    "# loss = -(a + b + c) / 3 = -1/3a -1/3b -1/3c = -1.0 / n\n",
    "dlogprobs = torch.zeros_like(logprobs)\n",
    "dlogprobs[range(n), Yb] = -1.0/n \n",
    "cmp('logprobs', dlogprobs, logprobs)\n",
    "\n",
    "# dloss/dprobs = dloss/dlogpros * dlogpros/dprobs\n",
    "# logprobs = probs.log() -> d(log) = 1/x\n",
    "dprobs =  1 / probs * dlogprobs\n",
    "cmp('probs', dprobs, probs)\n",
    "\n",
    "# dloss/ dcounts_sum_inv = dloss/dprobs * dprobs/dcounts_sum_inv\n",
    "# probs = counts * counts_sum_inv --> [32,27] * [32,1]\n",
    "# c = a[3x3] * b[3x1] \n",
    "# a11*b1 + a12*b1 + a13*b1\n",
    "# a21*b2 + a22*b2 + a23*b2\n",
    "# dc = a11+a12+a13\n",
    "#       a21+a22+a23 ...\n",
    "dcounts_sum_inv = (counts * dprobs).sum(1, keepdim=True) # sum by row (a11+a12+a13)\n",
    "dcounts = counts_sum_inv * dprobs # chain rule\n",
    "cmp('counts_sum_inv', dcounts_sum_inv, counts_sum_inv)\n",
    "\n",
    "# dcounts_sum_inv/ dcounts_sum\n",
    "# counts_sum_inv = counts_sum**-1  -> d(1/x) = -1/x**2 \n",
    "dcounts_sum = \t(-counts_sum**-2) * dcounts_sum_inv\n",
    "cmp('counts_sum', dcounts_sum, counts_sum)\n",
    "\n",
    "#  dcounts_sum / dcounts\n",
    "# counts_sum = counts.sum(1, keepdims=True)\n",
    "# counts.shape -> (32,27), counts_sum -> (32,1) -> derivate of a sum is 1\n",
    "# a11, a12, a13.. -> b3\n",
    "# a21, a22, a23.. -> b2\n",
    "# a31, a32, a33.. -> b1\n",
    "dcounts += torch.ones_like(counts) * dcounts_sum\n",
    "cmp('counts', dcounts, counts)\n",
    "\n",
    "# dcounts / dnorm_logits\n",
    "# counts = norm_logits.exp() -> d(exp(x)) -> exp(x)\n",
    "dnorm_logits = norm_logits.exp() * dcounts\n",
    "cmp('norm_logits', dnorm_logits, norm_logits)\n",
    "\n",
    "\n",
    "# norm_logits = logits - logit_maxes = [32,27] * [32,1]\n",
    "# c11 c12 c13 = a11 a12 a13  -  b3 (b3 is the maximum of that column)\n",
    "# c21 c22 c23 = a21 a22 a23  -  b1 \n",
    "# derivate with respect of ligt_maxes of b3 and b1 is const -1 [32,1]\n",
    "# dnorm_logits/dlogit\n",
    "dlogits = 1 * dnorm_logits.clone()\n",
    "# dnorm_logits/dlogit_maxes\n",
    "dlogit_maxes = -1 * dnorm_logits.sum(1,keepdim=True) #[32,27]\n",
    "cmp('logit_maxes', dlogit_maxes, logit_maxes)\n",
    "\n",
    "# dlogit_maxes/dlogits\n",
    "# logit_maxes plugs out the max value by column \n",
    "dlogits += F.one_hot(logits.max(1).indices, num_classes=logits.shape[1]) * dlogit_maxes \n",
    "cmp('logits', dlogits, logits)\n",
    "\n",
    "# Matrix \n",
    "#!!!!!!!!!!!! dh.shape == h.shape !!!!!!!!!!!! That's the trick to find the correct derivates, by playin with the dimensions\n",
    "# logits = h @ W2 + b1\n",
    "#logits = torch.Size([32, 27]),\n",
    "# so dlogits =[32,27]\n",
    "#h = torch.Size([32, 64]),\n",
    "#w2 = torch.Size([64, 27]),\n",
    "#b1 = torch.Size([27]))\n",
    "# by the chain rule dlogits [32,27] needs to be allways on the expression\n",
    "dh = dlogits @ W2.T  # [32,64] = [32,27] * [64,27].T\n",
    "dW2 = h.T @ dlogits  # [64,27] =   [32,64] * [32,27]\n",
    "db2 = dlogits.sum(0) # [27]  = [32,27].sum(0)\n",
    "cmp('h', dh, h)\n",
    "cmp('W2', dW2, W2)\n",
    "cmp('b2', db2, b2)\n",
    "#  \n",
    "# h = torch.tanh(hpreact) # hidden layer\n",
    "dhpreact = (1.0 - h**2) * dh\n",
    "cmp('hpreact', dhpreact, hpreact)\n",
    "#\n",
    "##hpreact = bngain * bnraw + bnbias\n",
    "dbngain = bnraw*dhpreact\n",
    "# bngain = [1,64] = [32,64] *[32,64] so we need to sum column wise\n",
    "dbngain = dbngain.sum(0, keepdim=True)\n",
    "\n",
    "dbnraw = bngain*dhpreact\n",
    "\n",
    "dbnbias = dhpreact.sum(0, keepdim=True)\n",
    "cmp('bngain', dbngain, bngain)\n",
    "cmp('bnbias', dbnbias, bnbias)\n",
    "cmp('bnraw', dbnraw, bnraw)\n",
    "\n",
    "# dbraw/dbnvar_inv\n",
    "#bnraw = bndiff * bnvar_inv\n",
    "dbnvar_inv = (bndiff * dbnraw).sum(0, keepdim=True) #matrix multiplication bndiff * chain rule dnraw\n",
    "dbndiff = bnvar_inv * dbnraw\n",
    "cmp('bnvar_inv', dbnvar_inv, bnvar_inv)\n",
    "\n",
    "# bnvar_inv = (bnvar + 1e-5)**-0.5\n",
    "dbnvar = (-0.5*(bnvar + 1e-5)**-1.5) * dbnvar_inv  # rule of derivatives * chain_rule\n",
    "cmp('bnvar', dbnvar, bnvar)\n",
    "\n",
    "#bnvar = 1/(n-1)*(bndiff2).sum(0, keepdim=True)\n",
    "# [1,64] = [32,64]\n",
    "# bnvar = 1/(n-1) * (a11 + a21 + a31)\n",
    "#         1/(n-1) * (a12 + a22 + a32)\n",
    "# dbvar = 1/(n-1) * (1 + 1 + 1)\n",
    "#        = 1/(n-1) * (1 + 1 + 1)\n",
    "dbndiff2 = ((1.0/(n-1.0))*torch.ones_like(bndiff2)) * dbnvar \n",
    "cmp('bndiff2', dbndiff2, bndiff2)\n",
    "\n",
    "#dbndiff2 / bndiff\n",
    "# bndiff2 = bndiff**2\n",
    "dbndiff += 2 * bndiff * dbndiff2\n",
    "cmp('bndiff', dbndiff, bndiff)\n",
    "\n",
    "#\n",
    "#bndiff = hprebn - bnmeani\n",
    "# bndiff / dbnmeani\n",
    "dhprebn = dbndiff.clone()   # deirvate is 1 * chain rule\n",
    "dbnmeani = (-torch.ones_like(hprebn) * dbndiff).sum(0, keepdim=True)\n",
    "cmp('bnmeani', dbnmeani, bnmeani)\n",
    "\n",
    "#bnmeani = 1/n*hprebn.sum(0,keepdim=True)\n",
    "dhprebn += (1.0/n) * torch.ones_like(hprebn) * dbnmeani \n",
    "cmp('hprebn', dhprebn, hprebn)\n",
    "\n",
    "dembcat= dhprebn @ W1.T\n",
    "dW1 = embcat.T @ dhprebn\n",
    "db1 = dhprebn.sum(0)\n",
    "cmp('embcat', dembcat, embcat)\n",
    "cmp('W1', dW1, W1)\n",
    "cmp('b1', db1, b1)\n",
    "\n",
    "demb = dembcat.view(emb.shape)\n",
    "cmp('emb', demb, emb)\n",
    "\n",
    "#dC\n",
    "dC = torch.zeros_like(C)\n",
    "for k in range(Xb.shape[0]):\n",
    "    for j in range(Xb.shape[1]):\n",
    "        ix = Xb[k,j]\n",
    "        dC[ix] += demb[k,j]\n",
    "cmp('C', dC, C)"
   ]
  },
  {
   "cell_type": "code",
   "execution_count": null,
   "metadata": {},
   "outputs": [
    {
     "name": "stdout",
     "output_type": "stream",
     "text": [
      "3.348198175430298 diff: 0.0\n"
     ]
    }
   ],
   "source": [
    "# Exercise 2: backprop through cross_entropy but all in one go\n",
    "# to complete this challenge look at the mathematical expression of the loss,\n",
    "# take the derivative, simplify the expression, and just write it out\n",
    "\n",
    "# forward pass\n",
    "\n",
    "# before:\n",
    "# logit_maxes = logits.max(1, keepdim=True).values\n",
    "# norm_logits = logits - logit_maxes # subtract max for numerical stability\n",
    "# counts = norm_logits.exp()\n",
    "# counts_sum = counts.sum(1, keepdims=True)\n",
    "# counts_sum_inv = counts_sum**-1 # if I use (1.0 / counts_sum) instead then I can't get backprop to be bit exact...\n",
    "# probs = counts * counts_sum_inv\n",
    "# logprobs = probs.log()\n",
    "# loss = -logprobs[range(n), Yb].mean()\n",
    "\n",
    "# now:\n",
    "loss_fast = F.cross_entropy(logits, Yb)\n",
    "print(loss_fast.item(), 'diff:', (loss_fast - loss).item())"
   ]
  },
  {
   "cell_type": "code",
   "execution_count": 30,
   "metadata": {},
   "outputs": [
    {
     "name": "stdout",
     "output_type": "stream",
     "text": [
      "logits          | exact: False | approximate: True | maxdiff: 1.0477378964424133e-08\n"
     ]
    }
   ],
   "source": [
    "# backwardpass \n",
    "# softmax = e**logits/sum(e**logits) \"scaling\"\n",
    "# dlogits = softmax - 1 when we are at the correct Y pos\n",
    "# dlogits = softmax on the others rows\n",
    "\n",
    "dlogits = F.softmax(logits, 1)\n",
    "# if we are at the correct position we need to subtract 1 (see derivation)\n",
    "dlogits[range(n), Yb] -= 1\n",
    "# we have to add the mean since we have all batch\n",
    "dlogits /= n\n",
    "\n",
    "cmp('logits', dlogits, logits) # I can only get approximate to be true, my maxdiff is 6e-9"
   ]
  },
  {
   "cell_type": "markdown",
   "metadata": {},
   "source": [
    "Very similar results"
   ]
  },
  {
   "cell_type": "code",
   "execution_count": null,
   "metadata": {},
   "outputs": [
    {
     "data": {
      "text/plain": [
       "tensor([0.0731, 0.0872, 0.0182, 0.0518, 0.0192, 0.0845, 0.0231, 0.0355, 0.0173,\n",
       "        0.0319, 0.0364, 0.0370, 0.0371, 0.0285, 0.0345, 0.0132, 0.0085, 0.0190,\n",
       "        0.0148, 0.0545, 0.0513, 0.0209, 0.0247, 0.0721, 0.0584, 0.0259, 0.0215],\n",
       "       grad_fn=<SelectBackward0>)"
      ]
     },
     "execution_count": 45,
     "metadata": {},
     "output_type": "execute_result"
    }
   ],
   "source": [
    "#logits => probabilities not scaled\n",
    "F.softmax(logits, 1)[0] #=>probabilities scaled"
   ]
  },
  {
   "cell_type": "code",
   "execution_count": 31,
   "metadata": {},
   "outputs": [
    {
     "data": {
      "text/plain": [
       "tensor([ 0.0731,  0.0872,  0.0182,  0.0518,  0.0192,  0.0845,  0.0231,  0.0355,\n",
       "        -0.9827,  0.0319,  0.0364,  0.0370,  0.0371,  0.0285,  0.0345,  0.0132,\n",
       "         0.0085,  0.0190,  0.0148,  0.0545,  0.0513,  0.0209,  0.0247,  0.0721,\n",
       "         0.0584,  0.0259,  0.0215], grad_fn=<MulBackward0>)"
      ]
     },
     "execution_count": 31,
     "metadata": {},
     "output_type": "execute_result"
    }
   ],
   "source": [
    "# Just for visualization propose we multiple by n so the correct position in the array will be -1\n",
    "dlogits[0] * n # dlogits acts as a force in the 27 characters, this force is proportional to the probabilities that came out in the foward pass \n",
    "# if we have a high prob on a wrong character the gradient (dlogit) will pull down this probability and up the one on the correct character by affecting the entire system all\n",
    "# ultimately adjusting the weights and biases. THis acts a pulling force on the system that will make weights a biases respond accordingly"
   ]
  },
  {
   "cell_type": "code",
   "execution_count": null,
   "metadata": {},
   "outputs": [
    {
     "data": {
      "text/plain": [
       "tensor(6.9849e-10, grad_fn=<SumBackward0>)"
      ]
     },
     "execution_count": 41,
     "metadata": {},
     "output_type": "execute_result"
    }
   ],
   "source": [
    "dlogits[0].sum()"
   ]
  },
  {
   "cell_type": "code",
   "execution_count": null,
   "metadata": {},
   "outputs": [
    {
     "data": {
      "text/plain": [
       "<matplotlib.image.AxesImage at 0x1a8555e7850>"
      ]
     },
     "execution_count": 46,
     "metadata": {},
     "output_type": "execute_result"
    },
    {
     "data": {
      "image/png": "[encoded data removed]",
      "text/plain": [
       "<Figure size 576x576 with 1 Axes>"
      ]
     },
     "metadata": {
      "needs_background": "light"
     },
     "output_type": "display_data"
    }
   ],
   "source": [
    "plt.figure(figsize=(8,8))\n",
    "plt.imshow(dlogits.detach(), cmap='gray')"
   ]
  },
  {
   "cell_type": "code",
   "execution_count": null,
   "metadata": {},
   "outputs": [],
   "source": [
    "#Bactch Norm\n",
    "# batchnorm backprop\n",
    "\tdbngain = (bnraw * dhpreact).sum(0, keepdim=True)\n",
    "\tdbnbias = dhpreact.sum(0, keepdim=True)\n",
    "\tdhprebn = bngain*bnvar_inv/n * (n*dhpreact - dhpreact.sum(0) - n/(n-1)*bnraw*(dhpreact*bnraw).sum(0))"
   ]
  },
  {
   "cell_type": "code",
   "execution_count": 3,
   "metadata": {},
   "outputs": [
    {
     "ename": "NameError",
     "evalue": "name 'vocab_size' is not defined",
     "output_type": "error",
     "traceback": [
      "\u001b[1;31m---------------------------------------------------------------------------\u001b[0m",
      "\u001b[1;31mNameError\u001b[0m                                 Traceback (most recent call last)",
      "Cell \u001b[1;32mIn[3], line 10\u001b[0m\n\u001b[0;32m      7\u001b[0m n_hidden \u001b[39m=\u001b[39m \u001b[39m200\u001b[39m \u001b[39m# the number of neurons in the hidden layer of the MLP\u001b[39;00m\n\u001b[0;32m      9\u001b[0m g \u001b[39m=\u001b[39m torch\u001b[39m.\u001b[39mGenerator()\u001b[39m.\u001b[39mmanual_seed(\u001b[39m2147483647\u001b[39m) \u001b[39m# for reproducibility\u001b[39;00m\n\u001b[1;32m---> 10\u001b[0m C  \u001b[39m=\u001b[39m torch\u001b[39m.\u001b[39mrandn((vocab_size, n_embd),            generator\u001b[39m=\u001b[39mg)\n\u001b[0;32m     11\u001b[0m \u001b[39m# Layer 1\u001b[39;00m\n\u001b[0;32m     12\u001b[0m W1 \u001b[39m=\u001b[39m torch\u001b[39m.\u001b[39mrandn((n_embd \u001b[39m*\u001b[39m block_size, n_hidden), generator\u001b[39m=\u001b[39mg) \u001b[39m*\u001b[39m (\u001b[39m5\u001b[39m\u001b[39m/\u001b[39m\u001b[39m3\u001b[39m)\u001b[39m/\u001b[39m((n_embd \u001b[39m*\u001b[39m block_size)\u001b[39m*\u001b[39m\u001b[39m*\u001b[39m\u001b[39m0.5\u001b[39m)\n",
      "\u001b[1;31mNameError\u001b[0m: name 'vocab_size' is not defined"
     ]
    }
   ],
   "source": [
    "# Exercice 4 putting all together:\n",
    "# Train MLP neural net with your own backward pass\n",
    "\n",
    "\n",
    "# init\n",
    "n_embd = 10 # the dimensionality of the character embedding vectors\n",
    "n_hidden = 200 # the number of neurons in the hidden layer of the MLP\n",
    "\n",
    "g = torch.Generator().manual_seed(2147483647) # for reproducibility\n",
    "C  = torch.randn((vocab_size, n_embd),            generator=g)\n",
    "# Layer 1\n",
    "W1 = torch.randn((n_embd * block_size, n_hidden), generator=g) * (5/3)/((n_embd * block_size)**0.5)\n",
    "b1 = torch.randn(n_hidden,                        generator=g) * 0.1\n",
    "# Layer 2\n",
    "W2 = torch.randn((n_hidden, vocab_size),          generator=g) * 0.1\n",
    "b2 = torch.randn(vocab_size,                      generator=g) * 0.1\n",
    "# BatchNorm parameters\n",
    "bngain = torch.randn((1, n_hidden))*0.1 + 1.0\n",
    "bnbias = torch.randn((1, n_hidden))*0.1\n",
    "\n",
    "parameters = [C, W1, b1, W2, b2, bngain, bnbias]\n",
    "print(sum(p.nelement() for p in parameters)) # number of parameters in total\n",
    "for p in parameters:\n",
    "  p.requires_grad = True\n",
    "\n",
    "# same optimization as last time\n",
    "max_steps = 200000\n",
    "batch_size = 32\n",
    "n = batch_size # convenience\n",
    "lossi = []\n",
    "\n",
    "# use this context manager for efficiency once your backward pass is written (TODO)\n",
    "\n",
    "for i in range(max_steps):\n",
    "\n",
    "    # minibatch construct\n",
    "\tix = torch.randint(0, Xtr.shape[0], (batch_size,), generator=g)\n",
    "\tXb, Yb = Xtr[ix], Ytr[ix] # batch X,Y\n",
    "\n",
    "\t# forward pass\n",
    "\temb = C[Xb] # embed the characters into vectors\n",
    "\tembcat = emb.view(emb.shape[0], -1) # concatenate the vectors\n",
    "    # Linear layer\n",
    "\thprebn = embcat @ W1 + b1 # hidden layer pre-activation\n",
    "    # BatchNorm layer\n",
    "    # -------------------------------------------------------------\n",
    "\tbnmean = hprebn.mean(0, keepdim=True)\n",
    "\tbnvar = hprebn.var(0, keepdim=True, unbiased=True)\n",
    "\tbnvar_inv = (bnvar + 1e-5)**-0.5\n",
    "\tbnraw = (hprebn - bnmean) * bnvar_inv\n",
    "\thpreact = bngain * bnraw + bnbias\n",
    "    # -------------------------------------------------------------\n",
    "    # Non-linearity\n",
    "\th = torch.tanh(hpreact) # hidden layer\n",
    "\tlogits = h @ W2 + b2 # output layer\n",
    "\tloss = F.cross_entropy(logits, Yb) # loss function\n",
    "\n",
    "    # backward pass\n",
    "\tfor p in parameters:\n",
    "\t\tp.grad = None\n",
    "\t#loss.backward()\n",
    "\t# manual backprop! #swole_doge_meme\n",
    "    # -----------------\n",
    "\tdlogits = F.softmax(logits, 1)\n",
    "\tdlogits[range(n), Yb] -= 1\n",
    "\tdlogits /= n\n",
    "    # 2nd layer backprop\n",
    "\tdh = dlogits @ W2.T\n",
    "\tdW2 = h.T @ dlogits\n",
    "\tdb2 = dlogits.sum(0)\n",
    "    # tanh\n",
    "\tdhpreact = (1.0 - h**2) * dh\n",
    "    # batchnorm backprop\n",
    "\tdbngain = (bnraw * dhpreact).sum(0, keepdim=True)\n",
    "\tdbnbias = dhpreact.sum(0, keepdim=True)\n",
    "\tdhprebn = bngain*bnvar_inv/n * (n*dhpreact - dhpreact.sum(0) - n/(n-1)*bnraw*(dhpreact*bnraw).sum(0))\n",
    "    # 1st layer\n",
    "\tdembcat = dhprebn @ W1.T\n",
    "\tdW1 = embcat.T @ dhprebn\n",
    "\tdb1 = dhprebn.sum(0)\n",
    "    # embedding\n",
    "\tdemb = dembcat.view(emb.shape)\n",
    "\tdC = torch.zeros_like(C)\n",
    "\tfor k in range(Xb.shape[0]):\n",
    "\t\tfor j in range(Xb.shape[1]):\n",
    "\t\t\tix = Xb[k,j]\n",
    "\t\t\tdC[ix] += demb[k,j]\n",
    "\tgrads = [dC, dW1, db1, dW2, db2, dbngain, dbnbias]\n",
    "\n",
    "\t# Update\n",
    "\tlr = 0.1 if i < 10000 else 0.01\n",
    "\tfor p, grad in zip(parameters, grads):\n",
    "\t\tp.data += -lr * grad\n",
    "\n",
    "\t# track stats\n",
    "\tif i % 10000 == 0: # print every once in a while\n",
    "\t\tprint(f'{i:7d}/{max_steps:7d}: {loss.item():.4f}')\t\n",
    "\tlossi.append(loss.log10().item())\n"
   ]
  }
 ],
 "metadata": {
  "kernelspec": {
   "display_name": "Python 3",
   "language": "python",
   "name": "python3"
  },
  "language_info": {
   "codemirror_mode": {
    "name": "ipython",
    "version": 3
   },
   "file_extension": ".py",
   "mimetype": "text/x-python",
   "name": "python",
   "nbconvert_exporter": "python",
   "pygments_lexer": "ipython3",
   "version": "3.9.0"
  },
  "orig_nbformat": 4,
  "vscode": {
   "interpreter": {
    "hash": "18f97a8b43d8461fe6544b8eac9009d6873c1fc53d4ac094d81c40900695d1d6"
   }
  }
 },
 "nbformat": 4,
 "nbformat_minor": 2
}
