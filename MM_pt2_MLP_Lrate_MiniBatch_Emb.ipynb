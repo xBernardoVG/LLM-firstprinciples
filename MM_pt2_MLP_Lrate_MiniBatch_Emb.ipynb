{
 "cells": [
  {
   "cell_type": "code",
   "execution_count": 21,
   "metadata": {},
   "outputs": [],
   "source": [
    "import torch\n",
    "import random\n",
    "import torch.nn.functional as F\n",
    "import matplotlib.pyplot as plt\n",
    "%matplotlib inline"
   ]
  },
  {
   "cell_type": "markdown",
   "metadata": {},
   "source": [
    "### MLP- with Model training, learning rate tuning, hyperparameters, evaluation,"
   ]
  },
  {
   "cell_type": "code",
   "execution_count": 28,
   "metadata": {},
   "outputs": [
    {
     "data": {
      "text/plain": [
       "['emma', 'olivia', 'ava', 'isabella', 'sophia', 'charlotte', 'mia', 'amelia']"
      ]
     },
     "execution_count": 28,
     "metadata": {},
     "output_type": "execute_result"
    }
   ],
   "source": [
    "# read in all the words\n",
    "words = open('names.txt', 'r').read().splitlines()\n",
    "words[:8]"
   ]
  },
  {
   "cell_type": "code",
   "execution_count": 24,
   "metadata": {},
   "outputs": [
    {
     "data": {
      "text/plain": [
       "32033"
      ]
     },
     "execution_count": 24,
     "metadata": {},
     "output_type": "execute_result"
    }
   ],
   "source": [
    "len(words)"
   ]
  },
  {
   "cell_type": "code",
   "execution_count": 29,
   "metadata": {},
   "outputs": [
    {
     "name": "stdout",
     "output_type": "stream",
     "text": [
      "{1: 'a', 2: 'b', 3: 'c', 4: 'd', 5: 'e', 6: 'f', 7: 'g', 8: 'h', 9: 'i', 10: 'j', 11: 'k', 12: 'l', 13: 'm', 14: 'n', 15: 'o', 16: 'p', 17: 'q', 18: 'r', 19: 's', 20: 't', 21: 'u', 22: 'v', 23: 'w', 24: 'x', 25: 'y', 26: 'z', 0: '.'}\n"
     ]
    }
   ],
   "source": [
    "#build vocabulary of characters and mappings to/from intergers\n",
    "chars = sorted(list(set(''.join(words))))\n",
    "stoi = {s:i+1 for i,s in enumerate(chars)}\n",
    "stoi['.'] = 0\n",
    "itos = {i:s for s,i in stoi.items()}\n",
    "print(itos)"
   ]
  },
  {
   "cell_type": "code",
   "execution_count": 30,
   "metadata": {},
   "outputs": [
    {
     "name": "stdout",
     "output_type": "stream",
     "text": [
      "... ---> e\n",
      "..e ---> m\n",
      ".em ---> m\n",
      "emm ---> a\n",
      "mma ---> .\n",
      "... ---> o\n",
      "..o ---> l\n",
      ".ol ---> i\n",
      "oli ---> v\n",
      "liv ---> i\n",
      "ivi ---> a\n",
      "via ---> .\n",
      "... ---> a\n",
      "..a ---> v\n",
      ".av ---> a\n",
      "ava ---> .\n",
      "... ---> i\n",
      "..i ---> s\n",
      ".is ---> a\n",
      "isa ---> b\n",
      "sab ---> e\n",
      "abe ---> l\n",
      "bel ---> l\n",
      "ell ---> a\n",
      "lla ---> .\n",
      "... ---> s\n",
      "..s ---> o\n",
      ".so ---> p\n",
      "sop ---> h\n",
      "oph ---> i\n",
      "phi ---> a\n",
      "hia ---> .\n"
     ]
    }
   ],
   "source": [
    "# build dataset WITH BLOCK SIZE = 3\n",
    "block_size = 3\n",
    "X, Y = [], []\n",
    "\n",
    "for w in words[:5]:\n",
    "    \n",
    "\t#print(w)\n",
    "\tcontext = [0] * block_size\n",
    "\tfor ch in w + '.':\n",
    "\t\tix = stoi[ch]\n",
    "\t\tX.append(context)\n",
    "\t\tY.append(ix)\n",
    "\t\tprint(''.join(itos[i] for i in context), '--->',itos[ix])\n",
    "\t\tcontext =context[1:] + [ix]\n",
    "\n",
    "X= torch.tensor(X)\n",
    "Y= torch.tensor(Y)"
   ]
  },
  {
   "cell_type": "markdown",
   "metadata": {},
   "source": [
    "* Embeddings"
   ]
  },
  {
   "cell_type": "code",
   "execution_count": 31,
   "metadata": {},
   "outputs": [
    {
     "name": "stdout",
     "output_type": "stream",
     "text": [
      "tensor([-0.1410, -0.5486])\n",
      "tensor([-0.1410, -0.5486])\n"
     ]
    }
   ],
   "source": [
    "# We create a 2 dimensional embedding since we only have 27 letters\n",
    "C = torch.randn((27,2)) \n",
    "# There is two ways of creating the embedding\n",
    "# first similar to the previous approach (One-hot)\n",
    "emb1 = F.one_hot(torch.tensor(5), num_classes=27).float() @ C\n",
    "# one hot since is zeros a 1 it will plug out the fifth row by matrix multiplication\n",
    "# Second - simply: \n",
    "emb2 = C[5]\n",
    "\n",
    "print(emb1);print(emb2)"
   ]
  },
  {
   "cell_type": "code",
   "execution_count": 32,
   "metadata": {},
   "outputs": [
    {
     "data": {
      "text/plain": [
       "torch.Size([32, 3, 2])"
      ]
     },
     "execution_count": 32,
     "metadata": {},
     "output_type": "execute_result"
    }
   ],
   "source": [
    "# Due too the properties of torch we can simply create the embedding by\n",
    "emb = C[X]\n",
    "emb.shape"
   ]
  },
  {
   "cell_type": "code",
   "execution_count": 33,
   "metadata": {},
   "outputs": [
    {
     "ename": "RuntimeError",
     "evalue": "mat1 and mat2 shapes cannot be multiplied (96x2 and 6x100)",
     "output_type": "error",
     "traceback": [
      "\u001b[1;31m---------------------------------------------------------------------------\u001b[0m",
      "\u001b[1;31mRuntimeError\u001b[0m                              Traceback (most recent call last)",
      "Cell \u001b[1;32mIn[33], line 5\u001b[0m\n\u001b[0;32m      3\u001b[0m W1 \u001b[39m=\u001b[39m torch\u001b[39m.\u001b[39mrandn((\u001b[39m6\u001b[39m,\u001b[39m100\u001b[39m))\n\u001b[0;32m      4\u001b[0m b1 \u001b[39m=\u001b[39m torch\u001b[39m.\u001b[39mrandn(\u001b[39m100\u001b[39m)\n\u001b[1;32m----> 5\u001b[0m emb \u001b[39m@\u001b[39;49m W1 \u001b[39m+\u001b[39m b1   \u001b[39m##    ---->   :S \u001b[39;00m\n",
      "\u001b[1;31mRuntimeError\u001b[0m: mat1 and mat2 shapes cannot be multiplied (96x2 and 6x100)"
     ]
    }
   ],
   "source": [
    "#Now we want to transform this [len(words),3letters,2embedding]\n",
    "#in simple [len(words),6] to feed the NN and do \n",
    "W1 = torch.randn((6,100))\n",
    "b1 = torch.randn(100)\n",
    "emb @ W1 + b1   ##    ---->   :S "
   ]
  },
  {
   "cell_type": "code",
   "execution_count": 34,
   "metadata": {},
   "outputs": [
    {
     "data": {
      "text/plain": [
       "tensor([[ 0.0153, -0.6587,  0.0153, -0.6587,  0.0153, -0.6587],\n",
       "        [ 0.0153, -0.6587,  0.0153, -0.6587, -0.1410, -0.5486],\n",
       "        [ 0.0153, -0.6587, -0.1410, -0.5486,  0.1017,  2.8936],\n",
       "        [-0.1410, -0.5486,  0.1017,  2.8936,  0.1017,  2.8936],\n",
       "        [ 0.1017,  2.8936,  0.1017,  2.8936,  0.5883,  0.1524],\n",
       "        [ 0.0153, -0.6587,  0.0153, -0.6587,  0.0153, -0.6587],\n",
       "        [ 0.0153, -0.6587,  0.0153, -0.6587,  0.2144,  0.1225],\n",
       "        [ 0.0153, -0.6587,  0.2144,  0.1225, -0.8557,  1.3832],\n",
       "        [ 0.2144,  0.1225, -0.8557,  1.3832, -0.4992, -0.1814],\n",
       "        [-0.8557,  1.3832, -0.4992, -0.1814,  1.4304,  1.4427],\n",
       "        [-0.4992, -0.1814,  1.4304,  1.4427, -0.4992, -0.1814],\n",
       "        [ 1.4304,  1.4427, -0.4992, -0.1814,  0.5883,  0.1524],\n",
       "        [ 0.0153, -0.6587,  0.0153, -0.6587,  0.0153, -0.6587],\n",
       "        [ 0.0153, -0.6587,  0.0153, -0.6587,  0.5883,  0.1524],\n",
       "        [ 0.0153, -0.6587,  0.5883,  0.1524,  1.4304,  1.4427],\n",
       "        [ 0.5883,  0.1524,  1.4304,  1.4427,  0.5883,  0.1524],\n",
       "        [ 0.0153, -0.6587,  0.0153, -0.6587,  0.0153, -0.6587],\n",
       "        [ 0.0153, -0.6587,  0.0153, -0.6587, -0.4992, -0.1814],\n",
       "        [ 0.0153, -0.6587, -0.4992, -0.1814,  1.1615, -0.3965],\n",
       "        [-0.4992, -0.1814,  1.1615, -0.3965,  0.5883,  0.1524],\n",
       "        [ 1.1615, -0.3965,  0.5883,  0.1524,  0.0209, -0.3585],\n",
       "        [ 0.5883,  0.1524,  0.0209, -0.3585, -0.1410, -0.5486],\n",
       "        [ 0.0209, -0.3585, -0.1410, -0.5486, -0.8557,  1.3832],\n",
       "        [-0.1410, -0.5486, -0.8557,  1.3832, -0.8557,  1.3832],\n",
       "        [-0.8557,  1.3832, -0.8557,  1.3832,  0.5883,  0.1524],\n",
       "        [ 0.0153, -0.6587,  0.0153, -0.6587,  0.0153, -0.6587],\n",
       "        [ 0.0153, -0.6587,  0.0153, -0.6587,  1.1615, -0.3965],\n",
       "        [ 0.0153, -0.6587,  1.1615, -0.3965,  0.2144,  0.1225],\n",
       "        [ 1.1615, -0.3965,  0.2144,  0.1225, -0.8188, -0.6148],\n",
       "        [ 0.2144,  0.1225, -0.8188, -0.6148, -0.0523, -2.3623],\n",
       "        [-0.8188, -0.6148, -0.0523, -2.3623, -0.4992, -0.1814],\n",
       "        [-0.0523, -2.3623, -0.4992, -0.1814,  0.5883,  0.1524]])"
      ]
     },
     "execution_count": 34,
     "metadata": {},
     "output_type": "execute_result"
    }
   ],
   "source": [
    "# We fix this manipulating the matrix dimensions with .view()\n",
    "emb.view(32, 6)"
   ]
  },
  {
   "cell_type": "code",
   "execution_count": 36,
   "metadata": {},
   "outputs": [
    {
     "data": {
      "text/plain": [
       "torch.Size([32, 100])"
      ]
     },
     "execution_count": 36,
     "metadata": {},
     "output_type": "execute_result"
    }
   ],
   "source": [
    "# To avoid hardcoded number we can use -1 so pytorch will fit only the last dim to our request (6) = (3letters x 2 embedding)\n",
    "h = torch.tanh(emb.view(-1,6) @ W1 + b1)\n",
    "h.shape\n",
    "#boadcasting will do the correct thing \n",
    "# emb * w1 + v1\n",
    "# [32,6] x [6,100] = [32,100] \n",
    "#  [32,100] + [1,100] = [32,100]"
   ]
  },
  {
   "cell_type": "code",
   "execution_count": 37,
   "metadata": {},
   "outputs": [],
   "source": [
    "# Create next layer, output layer\n",
    "W2 = torch.randn((100,27)) # 27 output letter \n",
    "b2 = torch.randn(27)"
   ]
  },
  {
   "cell_type": "code",
   "execution_count": 38,
   "metadata": {},
   "outputs": [],
   "source": [
    "# So out output will be the logits\n",
    "logits = h @ W2 + b2"
   ]
  },
  {
   "cell_type": "code",
   "execution_count": 39,
   "metadata": {},
   "outputs": [],
   "source": [
    "counts = logits.exp()"
   ]
  },
  {
   "cell_type": "code",
   "execution_count": 40,
   "metadata": {},
   "outputs": [
    {
     "data": {
      "text/plain": [
       "torch.Size([32, 27])"
      ]
     },
     "execution_count": 40,
     "metadata": {},
     "output_type": "execute_result"
    }
   ],
   "source": [
    "prob = counts / counts.sum(1, keepdims=True)\n",
    "prob.shape"
   ]
  },
  {
   "cell_type": "code",
   "execution_count": 41,
   "metadata": {},
   "outputs": [
    {
     "data": {
      "text/plain": [
       "tensor(1.0000)"
      ]
     },
     "execution_count": 41,
     "metadata": {},
     "output_type": "execute_result"
    }
   ],
   "source": [
    "prob[0].sum() # SHould be 1 since we've normalized this vector"
   ]
  },
  {
   "cell_type": "code",
   "execution_count": 42,
   "metadata": {},
   "outputs": [
    {
     "data": {
      "text/plain": [
       "tensor([ 5, 13, 13,  1,  0, 15, 12,  9, 22,  9,  1,  0,  1, 22,  1,  0,  9, 19,\n",
       "         1,  2,  5, 12, 12,  1,  0, 19, 15, 16,  8,  9,  1,  0])"
      ]
     },
     "execution_count": 42,
     "metadata": {},
     "output_type": "execute_result"
    }
   ],
   "source": [
    "Y"
   ]
  },
  {
   "cell_type": "code",
   "execution_count": 43,
   "metadata": {},
   "outputs": [
    {
     "data": {
      "text/plain": [
       "tensor([7.8308e-06, 1.4037e-09, 3.6531e-08, 2.5313e-01, 5.8511e-14, 6.1517e-05,\n",
       "        2.1973e-04, 2.1544e-04, 9.2984e-01, 2.2045e-15, 1.2845e-11, 2.8423e-14,\n",
       "        1.1116e-11, 1.3589e-02, 3.3129e-03, 1.0572e-07, 3.1613e-07, 1.1634e-04,\n",
       "        9.3968e-04, 6.6318e-06, 1.7523e-09, 1.0381e-07, 4.9307e-03, 9.7922e-01,\n",
       "        4.5495e-11, 4.8965e-09, 4.0091e-05, 8.1552e-01, 1.5613e-07, 6.6243e-13,\n",
       "        3.7811e-12, 9.4468e-01])"
      ]
     },
     "execution_count": 43,
     "metadata": {},
     "output_type": "execute_result"
    }
   ],
   "source": [
    "# Get the probabilities of the correct next character\n",
    "prob[torch.arange(32),Y]"
   ]
  },
  {
   "cell_type": "code",
   "execution_count": 45,
   "metadata": {},
   "outputs": [
    {
     "data": {
      "text/plain": [
       "tensor(14.2782)"
      ]
     },
     "execution_count": 45,
     "metadata": {},
     "output_type": "execute_result"
    }
   ],
   "source": [
    "loss = -prob[torch.arange(32),Y].log().mean()\n",
    "loss"
   ]
  },
  {
   "cell_type": "code",
   "execution_count": 50,
   "metadata": {},
   "outputs": [
    {
     "data": {
      "text/plain": [
       "(torch.Size([32, 3]), torch.Size([32]))"
      ]
     },
     "execution_count": 50,
     "metadata": {},
     "output_type": "execute_result"
    }
   ],
   "source": [
    "# -------------- Now made more respectable ----------\n",
    "X.shape, Y.shape"
   ]
  },
  {
   "cell_type": "code",
   "execution_count": 54,
   "metadata": {},
   "outputs": [
    {
     "data": {
      "text/plain": [
       "3481"
      ]
     },
     "execution_count": 54,
     "metadata": {},
     "output_type": "execute_result"
    }
   ],
   "source": [
    "g = torch.Generator().manual_seed(214783674)\n",
    "C = torch.randn((27,2),generator=g)\n",
    "W1 = torch.randn((6,100),generator=g) #6 = 3 letter * 2 embeddings\n",
    "b1 = torch.randn(100, generator=g)\n",
    "W2 = torch.randn((100,27),generator=g)\n",
    "b2 = torch.randn(27,generator=g)\n",
    "parameters = [C, W1, b1, W2, b2]\n",
    "\n",
    "for p in parameters:\n",
    "    p.requires_grad = True\n",
    "sum(p.nelement() for p in parameters)"
   ]
  },
  {
   "cell_type": "code",
   "execution_count": 56,
   "metadata": {},
   "outputs": [
    {
     "name": "stdout",
     "output_type": "stream",
     "text": [
      "0.2555687427520752\n"
     ]
    }
   ],
   "source": [
    "for _ in range(1000):\n",
    "    # forward pass\n",
    "    emb = C[X] # (32, 3, 2)\n",
    "    h = torch.tanh(emb.view(-1,6) @ W1 + b1) # (32, 100)\n",
    "    logits = h @ W2 + b2 # (32, 27)\n",
    "    #counts = logits.exp()\n",
    "    #prob = counts / counts.sum(1, keepdims=True)\n",
    "    #loss = -prob[torch.arange(32), Y].log().mean()\n",
    "    # or simply use cross_entropy\n",
    "    # this has the advantage of dealing with very large numbers that can lead .exp to go too far\n",
    "    # pytroch will subtract the max value of the logits to avoid this and backward pass will be faster\n",
    "    loss = F.cross_entropy(logits, Y)\n",
    "\n",
    "    # backward pass\n",
    "    for p in parameters:\n",
    "        p.grad = None\n",
    "    loss.backward()\n",
    "    # update\n",
    "    for p in parameters:\n",
    "        p.data += -0.1 * p.grad\n",
    "print(loss.item())"
   ]
  },
  {
   "cell_type": "markdown",
   "metadata": {},
   "source": [
    "Since we only have 32 letter we are overfitting and almost getting 0 loss, we only dont get 0 since it's difficult to predict the first letter after \"...\" besides that eveyrything is very close:"
   ]
  },
  {
   "cell_type": "code",
   "execution_count": 58,
   "metadata": {},
   "outputs": [
    {
     "data": {
      "text/plain": [
       "torch.return_types.max(\n",
       "values=tensor([ 8.6574, 14.4156, 14.7787, 14.6051, 13.3698,  8.6574, 12.6657, 14.0357,\n",
       "        13.7471, 12.8055, 15.4202, 17.4647,  8.6574, 12.2926, 15.4662, 16.7973,\n",
       "         8.6574, 13.4650, 13.2454, 12.9673, 14.7730, 10.9743, 13.7070, 18.2338,\n",
       "        15.1285,  8.6574, 12.2235, 12.5467, 19.2489, 17.5169, 14.6914, 18.0540],\n",
       "       grad_fn=<MaxBackward0>),\n",
       "indices=tensor([15, 13, 13,  1,  0, 15, 12,  9, 22,  9,  1,  0, 15, 22,  1,  0, 15, 19,\n",
       "         1,  2,  5, 12, 12,  1,  0, 15, 15, 16,  8,  9,  1,  0]))"
      ]
     },
     "execution_count": 58,
     "metadata": {},
     "output_type": "execute_result"
    }
   ],
   "source": [
    "logits.max(1)"
   ]
  },
  {
   "cell_type": "code",
   "execution_count": 59,
   "metadata": {},
   "outputs": [
    {
     "data": {
      "text/plain": [
       "tensor([ 5, 13, 13,  1,  0, 15, 12,  9, 22,  9,  1,  0,  1, 22,  1,  0,  9, 19,\n",
       "         1,  2,  5, 12, 12,  1,  0, 19, 15, 16,  8,  9,  1,  0])"
      ]
     },
     "execution_count": 59,
     "metadata": {},
     "output_type": "execute_result"
    }
   ],
   "source": [
    "Y"
   ]
  },
  {
   "cell_type": "markdown",
   "metadata": {},
   "source": [
    "indices os max counts are almost the same as Y"
   ]
  },
  {
   "cell_type": "markdown",
   "metadata": {},
   "source": [
    "### Let's put all together for the enitre dataset!!"
   ]
  },
  {
   "cell_type": "code",
   "execution_count": 82,
   "metadata": {},
   "outputs": [
    {
     "name": "stdout",
     "output_type": "stream",
     "text": [
      "torch.Size([182441, 3]) torch.Size([182441])\n",
      "torch.Size([22902, 3]) torch.Size([22902])\n",
      "torch.Size([22803, 3]) torch.Size([22803])\n"
     ]
    },
    {
     "data": {
      "text/plain": [
       "(torch.Size([182441, 3]), torch.int64, torch.Size([182441]), torch.int64)"
      ]
     },
     "execution_count": 82,
     "metadata": {},
     "output_type": "execute_result"
    }
   ],
   "source": [
    "# Build dataset\n",
    "def build_dataset(words):\n",
    "\tblock_size = 3\n",
    "\tX, Y = [], []\n",
    "\t\n",
    "\tfor w in words:\n",
    "\t\tcontext = [0] * block_size\n",
    "\t\tfor ch in w + '.':\n",
    "\t\t\tix = stoi[ch]\n",
    "\t\t\tX.append(context)\n",
    "\t\t\tY.append(ix)\n",
    "\t\t\t#print(''.join(itos[i] for i in context), '--->',itos[ix])\n",
    "\t\t\tcontext =context[1:] + [ix]\n",
    "\n",
    "\tX = torch.tensor(X)\n",
    "\tY = torch.tensor(Y)\n",
    "\tprint(X.shape, Y.shape)\n",
    "\treturn X,Y\n",
    "\n",
    "import random\n",
    "random.seed(42)\n",
    "random.shuffle(words)\n",
    "n1 = int(0.8*len(words))\n",
    "n2 = int(0.9*len(words))\n",
    "\n",
    "Xtr, Ytr = build_dataset(words[:n1])\n",
    "Xdev, Ydev = build_dataset(words[n1:n2])\n",
    "Xte, Yte = build_dataset(words[n2:])\n",
    "Xtr.shape, Xtr.dtype, Ytr.shape, Ytr.dtype"
   ]
  },
  {
   "cell_type": "code",
   "execution_count": 155,
   "metadata": {},
   "outputs": [
    {
     "data": {
      "text/plain": [
       "3481"
      ]
     },
     "execution_count": 155,
     "metadata": {},
     "output_type": "execute_result"
    }
   ],
   "source": [
    "g = torch.Generator().manual_seed(2147483647)\n",
    "C = torch.randn((27,2),generator = g)\n",
    "W1 = torch.randn((6,100),generator = g) # 3letters(block size)x2 inputs\n",
    "b1 = torch.randn(100,generator=g)\n",
    "W2 = torch.randn((100,27),generator=g)\n",
    "b2 = torch.randn(27,generator=g)\n",
    "parameters = [C, W1, b1, W2, b2]\n",
    "\n",
    "for p in parameters:\n",
    "    p.requires_grad = True\n",
    "    \n",
    "sum(p.nelement() for p in parameters)"
   ]
  },
  {
   "cell_type": "markdown",
   "metadata": {},
   "source": [
    "* Implement mini-batch and Learning rate to address speed problems on the entire dataset"
   ]
  },
  {
   "cell_type": "code",
   "execution_count": 156,
   "metadata": {},
   "outputs": [],
   "source": [
    "lre = torch.linspace(-3,0,1000)\n",
    "lrs = 10**lre\n",
    "lri = []\n",
    "stepi = []\n",
    "lossi = []"
   ]
  },
  {
   "cell_type": "code",
   "execution_count": 158,
   "metadata": {},
   "outputs": [
    {
     "name": "stdout",
     "output_type": "stream",
     "text": [
      "Batch loss:6.506563663482666\n"
     ]
    }
   ],
   "source": [
    "for i in range(1000):\t\n",
    "\n",
    "\t# mini-batch construct with 32 examples of words \n",
    "\t# although this is not the exact gradient its good enough to give the direction \n",
    "\t# in which we should move to minimize the loss, then\n",
    "\tix= torch.randint(0, Xtr.shape[0],(32,))\n",
    "\n",
    "\t# forward pass\n",
    "\temb = C[Xtr[ix]] # (32, 3, 2)\n",
    "\th = torch.tanh(emb.view(-1,6) @ W1 + b1) # (32,100)\n",
    "\tlogits = h @ W2 + b2 # (32,27)\n",
    "\tloss = F.cross_entropy(logits, Ytr[ix])\n",
    "\t#print(loss.item())\n",
    "\t\n",
    "\t# backward pass\n",
    "\tfor p in parameters:\n",
    "\t\tp.grad = None\n",
    "\tloss.backward()\n",
    "\t\n",
    "\t# update\n",
    "\t#lr = 0.1 if i < 10000 else 0.01\n",
    "\tlr = lrs[i]\n",
    "\tfor p in parameters:\n",
    "\t\tp.data += - lr * p.grad\n",
    "\n",
    "\t# track stats\n",
    "\tstepi.append(i)\n",
    "\tlri.append(lre[i])\n",
    "\tlossi.append(loss.item())\n",
    "print(f'Batch loss:{loss.item()}')"
   ]
  },
  {
   "cell_type": "code",
   "execution_count": 159,
   "metadata": {},
   "outputs": [
    {
     "data": {
      "text/plain": [
       "[<matplotlib.lines.Line2D at 0x1e48fc0bfa0>]"
      ]
     },
     "execution_count": 159,
     "metadata": {},
     "output_type": "execute_result"
    },
    {
     "data": {
      "image/png": "[encoded data removed]",
      "text/plain": [
       "<Figure size 640x480 with 1 Axes>"
      ]
     },
     "metadata": {},
     "output_type": "display_data"
    }
   ],
   "source": [
    "plt.plot(lri,lossi)"
   ]
  },
  {
   "cell_type": "markdown",
   "metadata": {},
   "source": [
    "From the plot we can see that a good learning rate is 10**-1 = 0.1 as we had initially"
   ]
  },
  {
   "cell_type": "code",
   "execution_count": 110,
   "metadata": {},
   "outputs": [],
   "source": [
    "# Run it again with the correct learning rate and also learning decay"
   ]
  },
  {
   "cell_type": "code",
   "execution_count": 160,
   "metadata": {},
   "outputs": [
    {
     "data": {
      "text/plain": [
       "6881"
      ]
     },
     "execution_count": 160,
     "metadata": {},
     "output_type": "execute_result"
    }
   ],
   "source": [
    "g = torch.Generator().manual_seed(2147483647)\n",
    "C = torch.randn((27,2),generator = g)\n",
    "W1 = torch.randn((6,200),generator = g) # 3letters(block size)x10 inputs\n",
    "b1 = torch.randn(200,generator=g)\n",
    "W2 = torch.randn((200,27),generator=g)\n",
    "b2 = torch.randn(27,generator=g)\n",
    "parameters = [C, W1, b1, W2, b2]\n",
    "\n",
    "for p in parameters:\n",
    "    p.requires_grad = True\n",
    "    \n",
    "sum(p.nelement() for p in parameters)"
   ]
  },
  {
   "cell_type": "code",
   "execution_count": 151,
   "metadata": {},
   "outputs": [],
   "source": [
    "lri = []\n",
    "lossi= []\n",
    "for i in range(10000):\t\n",
    "\n",
    "\t# mini-batch construct with 32 examples of words \n",
    "\t# although this is not the exact gradient its good enough to give the direction \n",
    "\t# in which we should move to minimize the loss, then\n",
    "\tix= torch.randint(0, Xtr.shape[0],(32,))\n",
    "\n",
    "\t# forward pass\n",
    "\temb = C[Xtr[ix]] # (32, 3, 2)\n",
    "\th = torch.tanh(emb.view(-1,6) @ W1 + b1) # (32,100)\n",
    "\tlogits = h @ W2 + b2 # (32,27)\n",
    "\tloss = F.cross_entropy(logits, Ytr[ix])\n",
    "\t\n",
    "\t# backward pass\n",
    "\tfor p in parameters:\n",
    "\t\tp.grad = None\n",
    "\tloss.backward()\n",
    "\t\n",
    "\t# update \n",
    "\t#lr = 0.1 if i < 10000 else 0.01 # learning decay\n",
    "\tlr = 0.05\n",
    "\tfor p in parameters:\n",
    "\t\tp.data += - lr * p.grad\n",
    "\n",
    "\t# track stats\n",
    "\tstepi.append(i)\n",
    "\t#lri.append(lre[i])\n",
    "\tlossi.append(loss.item())\n",
    "#print(f'Batch loss:{loss.item()}')"
   ]
  },
  {
   "cell_type": "code",
   "execution_count": 152,
   "metadata": {},
   "outputs": [
    {
     "name": "stdout",
     "output_type": "stream",
     "text": [
      "train set loss:2.3782036304473877\n"
     ]
    }
   ],
   "source": [
    "# evaluate on train set instead of the batch\n",
    "emb = C[Xtr] # (32, 3, 2)\n",
    "h = torch.tanh(emb.view(-1,6) @ W1 + b1) # (32,100)\n",
    "logits = h @ W2 + b2 # (32,27)\n",
    "loss = F.cross_entropy(logits, Ytr)\n",
    "print(f'train set loss:{loss}')"
   ]
  },
  {
   "cell_type": "code",
   "execution_count": 153,
   "metadata": {},
   "outputs": [
    {
     "name": "stdout",
     "output_type": "stream",
     "text": [
      "dev set loss:2.382650375366211\n"
     ]
    }
   ],
   "source": [
    "# evaluate on dev set \n",
    "emb = C[Xdev] # (32, 3, 2)\n",
    "h = torch.tanh(emb.view(-1,6) @ W1 + b1) # (32,100)\n",
    "logits = h @ W2 + b2 # (32,27)\n",
    "loss = F.cross_entropy(logits, Ydev)\n",
    "print(f'dev set loss:{loss}')\n",
    "# In this case the dev loss =~= train loss wich means that our\n",
    "# NN is not overfitting, we can improve the test loss by \n",
    "# increasing the size of NN until train loss == dev loss\n",
    "# 100 neurons -> train loss= 2.43, dev loss = 2.6\n",
    "# 200 neuros -> train loss= 2.278, dev loss = 2.38"
   ]
  },
  {
   "cell_type": "code",
   "execution_count": 154,
   "metadata": {},
   "outputs": [
    {
     "data": {
      "image/png": "[encoded data removed]",
      "text/plain": [
       "<Figure size 800x800 with 1 Axes>"
      ]
     },
     "metadata": {},
     "output_type": "display_data"
    }
   ],
   "source": [
    "# Prbabily now the bottleneck is not the size of the NN but the fact of only using 2 embeddings\n",
    "# visualizing the embeddings \n",
    "plt.figure(figsize=(8,8))\n",
    "plt.scatter(C[:,0].data,C[:,1].data, s=200)\n",
    "for i in range(C.shape[0]):\n",
    "    plt.text(C[i,0].item(), C[i,1].item(), itos[i], ha='center', va='center', color='white')\n",
    "    plt.grid('minor')"
   ]
  },
  {
   "cell_type": "markdown",
   "metadata": {},
   "source": [
    "Interesting how the vogals are all together :) the NN think they ar every similar"
   ]
  },
  {
   "cell_type": "code",
   "execution_count": 181,
   "metadata": {},
   "outputs": [
    {
     "data": {
      "text/plain": [
       "11897"
      ]
     },
     "execution_count": 181,
     "metadata": {},
     "output_type": "execute_result"
    }
   ],
   "source": [
    "# scale number of embeddings to 10\n",
    "g = torch.Generator().manual_seed(2147483647)\n",
    "C = torch.randn((27,10),generator = g)\n",
    "W1 = torch.randn((30,200),generator = g) # 3letters(block size)x10 inputs\n",
    "b1 = torch.randn(200,generator=g)\n",
    "W2 = torch.randn((200,27),generator=g)\n",
    "b2 = torch.randn(27,generator=g)\n",
    "parameters = [C, W1, b1, W2, b2]\n",
    "\n",
    "for p in parameters:\n",
    "    p.requires_grad = True\n",
    "    \n",
    "sum(p.nelement() for p in parameters)"
   ]
  },
  {
   "cell_type": "code",
   "execution_count": 182,
   "metadata": {},
   "outputs": [],
   "source": [
    "lri = []\n",
    "lossi= []\n",
    "stepi= []"
   ]
  },
  {
   "cell_type": "code",
   "execution_count": 183,
   "metadata": {},
   "outputs": [],
   "source": [
    "for i in range(200000):\t\n",
    "\n",
    "\t# mini-batch construct with 32 examples of words \n",
    "\t# although this is not the exact gradient its good enough to give the direction \n",
    "\t# in which we should move to minimize the loss, then\n",
    "\tix= torch.randint(0, Xtr.shape[0],(32,))\n",
    "\n",
    "\t# forward pass\n",
    "\temb = C[Xtr[ix]] # (32, 3, 2)\n",
    "\th = torch.tanh(emb.view(-1,30) @ W1 + b1) # (32,100)\n",
    "\tlogits = h @ W2 + b2 # (32,27)\n",
    "\tloss = F.cross_entropy(logits, Ytr[ix])\n",
    "\t\n",
    "\t# backward pass\n",
    "\tfor p in parameters:\n",
    "\t\tp.grad = None\n",
    "\tloss.backward()\n",
    "\t\n",
    "\t# update \n",
    "\tif i < 10000:\n",
    "\t\tlr = 0.1 \n",
    "\telif i < 5000:\n",
    "\t\tlr = 0.05\n",
    "\telse: \n",
    "\t\tlr = 0.01 # learning decay\n",
    "\t#lr = 0.01\n",
    "\tfor p in parameters:\n",
    "\t\tp.data += - lr * p.grad\n",
    "\n",
    "\t# track stats\n",
    "\tstepi.append(i)\n",
    "\t#lri.append(lre[i])\n",
    "\tlossi.append(loss.log10().item()) # log to remve the hockey stick shape\n",
    "#print(f'Batch loss:{loss.item()}')"
   ]
  },
  {
   "cell_type": "code",
   "execution_count": 184,
   "metadata": {},
   "outputs": [
    {
     "data": {
      "text/plain": [
       "[<matplotlib.lines.Line2D at 0x1e4944b5490>]"
      ]
     },
     "execution_count": 184,
     "metadata": {},
     "output_type": "execute_result"
    },
    {
     "data": {
      "image/png": "[encoded data removed]",
      "text/plain": [
       "<Figure size 640x480 with 1 Axes>"
      ]
     },
     "metadata": {},
     "output_type": "display_data"
    }
   ],
   "source": [
    "plt.plot(stepi, lossi)"
   ]
  },
  {
   "cell_type": "code",
   "execution_count": 178,
   "metadata": {},
   "outputs": [
    {
     "name": "stdout",
     "output_type": "stream",
     "text": [
      "train set loss:2.2364752292633057\n"
     ]
    }
   ],
   "source": [
    "# evaluate on train set \n",
    "emb = C[Xtr] # (32, 3, 2)\n",
    "h = torch.tanh(emb.view(-1,30) @ W1 + b1) # (32,100)\n",
    "logits = h @ W2 + b2 # (32,27)\n",
    "loss = F.cross_entropy(logits, Ytr)\n",
    "print(f'train set loss:{loss}')"
   ]
  },
  {
   "cell_type": "code",
   "execution_count": 179,
   "metadata": {},
   "outputs": [
    {
     "name": "stdout",
     "output_type": "stream",
     "text": [
      "train set loss:2.2600901126861572\n"
     ]
    }
   ],
   "source": [
    "# evaluate on dev set \n",
    "emb = C[Xdev] # (32, 3, 2)\n",
    "h = torch.tanh(emb.view(-1,30) @ W1 + b1) # (32,100)\n",
    "logits = h @ W2 + b2 # (32,27)\n",
    "loss = F.cross_entropy(logits, Ydev)\n",
    "print(f'train set loss:{loss}')"
   ]
  },
  {
   "cell_type": "markdown",
   "metadata": {},
   "source": [
    "* Now the problem can be:\n",
    "    * mini-batch size too low\n",
    "    * 3 words is not enough as the input\n",
    "    * change embedding \n",
    "    * change the hidden neurons\n",
    "    * lr and decay"
   ]
  },
  {
   "cell_type": "code",
   "execution_count": 180,
   "metadata": {},
   "outputs": [
    {
     "name": "stdout",
     "output_type": "stream",
     "text": [
      "mora.\n",
      "kmyah.\n",
      "seel.\n",
      "nihahalayethastendrarg.\n",
      "adelynneliah.\n",
      "miloe.\n",
      "leighausonnarahayzion.\n",
      "kamin.\n",
      "shabvisthiriel.\n",
      "kindretelipanthona.\n",
      "usten.\n",
      "dariyah.\n",
      "faeha.\n",
      "kaysh.\n",
      "stelah.\n",
      "halianayahsun.\n",
      "zakelven.\n",
      "mattre.\n",
      "kiveaiah.\n",
      "pradi.\n"
     ]
    }
   ],
   "source": [
    "# sample from the model\n",
    "g = torch.Generator().manual_seed(2147483647 + 10)\n",
    "\n",
    "for _ in range(20):\n",
    "    \n",
    "    out = []\n",
    "    context = [0] * block_size # initialize with all ...\n",
    "    while True:\n",
    "      emb = C[torch.tensor([context])] # (1,block_size,d)\n",
    "      h = torch.tanh(emb.view(1, -1) @ W1 + b1)\n",
    "      logits = h @ W2 + b2\n",
    "      probs = F.softmax(logits, dim=1)\n",
    "      ix = torch.multinomial(probs, num_samples=1, generator=g).item()\n",
    "      context = context[1:] + [ix]\n",
    "      out.append(ix)\n",
    "      if ix == 0:\n",
    "        break\n",
    "    \n",
    "    print(''.join(itos[i] for i in out))"
   ]
  }
 ],
 "metadata": {
  "kernelspec": {
   "display_name": "Python 3",
   "language": "python",
   "name": "python3"
  },
  "language_info": {
   "codemirror_mode": {
    "name": "ipython",
    "version": 3
   },
   "file_extension": ".py",
   "mimetype": "text/x-python",
   "name": "python",
   "nbconvert_exporter": "python",
   "pygments_lexer": "ipython3",
   "version": "3.9.0"
  },
  "orig_nbformat": 4,
  "vscode": {
   "interpreter": {
    "hash": "18f97a8b43d8461fe6544b8eac9009d6873c1fc53d4ac094d81c40900695d1d6"
   }
  }
 },
 "nbformat": 4,
 "nbformat_minor": 2
}
